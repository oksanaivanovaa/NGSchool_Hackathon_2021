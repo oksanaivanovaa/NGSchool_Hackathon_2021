{
 "cells": [
  {
   "cell_type": "code",
   "execution_count": 40,
   "metadata": {},
   "outputs": [
    {
     "name": "stderr",
     "output_type": "stream",
     "text": [
      "Welcome to enrichR\n",
      "Checking connection ... \n",
      "\n",
      "Enrichr ... \n",
      "Connection is Live!\n",
      "\n",
      "FlyEnrichr ... \n",
      "Connection is available!\n",
      "\n",
      "WormEnrichr ... \n",
      "Connection is available!\n",
      "\n",
      "YeastEnrichr ... \n",
      "Connection is available!\n",
      "\n",
      "FishEnrichr ... \n",
      "Connection is available!\n",
      "\n"
     ]
    }
   ],
   "source": [
    "#library(plyr)\n",
    "#library(tidyverse)\n",
    "#library(ComplexHeatmap)\n",
    "#library(ggalluvial)\n",
    "#library(ggpubr)#!!\n",
    "#library(FactoMineR)\n",
    "#library(PINSPlus)\n",
    "#library(iClusterPlus)#!!\n",
    "#library(RColorBrewer)\n",
    "#library(tsne)\n",
    "#library(reticulate)\n",
    "#library(survival)\n",
    "#library(survminer)\n",
    "#library(factoextra)\n",
    "#library(GGally)\n",
    "#library(enrichR)"
   ]
  },
  {
   "cell_type": "code",
   "execution_count": 39,
   "metadata": {},
   "outputs": [
    {
     "name": "stdout",
     "output_type": "stream",
     "text": [
      "\n",
      "The downloaded binary packages are in\n",
      "\t/var/folders/nd/02xd82912h310_4qdfy4l6y40000gn/T//RtmptKj7xr/downloaded_packages\n"
     ]
    }
   ],
   "source": [
    "install.packages(\"enrichR\")"
   ]
  },
  {
   "cell_type": "code",
   "execution_count": 21,
   "metadata": {},
   "outputs": [
    {
     "name": "stderr",
     "output_type": "stream",
     "text": [
      "'getOption(\"repos\")' replaces Bioconductor standard repositories, see\n",
      "'?repositories' for details\n",
      "\n",
      "replacement repositories:\n",
      "    CRAN: https://cran.r-project.org\n",
      "\n",
      "\n",
      "Bioconductor version 3.13 (BiocManager 1.30.16), R 4.1.0 (2021-05-18)\n",
      "\n",
      "Installing package(s) 'iClusterPlus'\n",
      "\n"
     ]
    },
    {
     "name": "stdout",
     "output_type": "stream",
     "text": [
      "\n",
      "The downloaded binary packages are in\n",
      "\t/var/folders/nd/02xd82912h310_4qdfy4l6y40000gn/T//RtmptKj7xr/downloaded_packages\n"
     ]
    },
    {
     "name": "stderr",
     "output_type": "stream",
     "text": [
      "Old packages: 'aplot', 'bslib', 'GenomeInfoDb', 'htmlwidgets', 'knitr',\n",
      "  'MatrixGenerics', 'nlme', 'openssl', 'parallelly', 'roxygen2', 'tidytree'\n",
      "\n"
     ]
    }
   ],
   "source": [
    "BiocManager::install(\"iClusterPlus\")"
   ]
  },
  {
   "cell_type": "code",
   "execution_count": null,
   "metadata": {},
   "outputs": [],
   "source": []
  }
 ],
 "metadata": {
  "kernelspec": {
   "display_name": "R",
   "language": "R",
   "name": "ir"
  },
  "language_info": {
   "codemirror_mode": "r",
   "file_extension": ".r",
   "mimetype": "text/x-r-source",
   "name": "R",
   "pygments_lexer": "r",
   "version": "4.1.0"
  }
 },
 "nbformat": 4,
 "nbformat_minor": 2
}
